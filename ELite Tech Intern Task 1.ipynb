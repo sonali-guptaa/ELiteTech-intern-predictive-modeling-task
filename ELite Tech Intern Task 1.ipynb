{
 "cells": [
  {
   "cell_type": "markdown",
   "id": "d1c58bad-739d-450f-a2d7-022cf5d08cbc",
   "metadata": {},
   "source": [
    "# Elite Tech Intern Task 1: Predictive Modeling"
   ]
  },
  {
   "cell_type": "code",
   "execution_count": 2,
   "id": "68cafc1e-5775-4795-8266-62f5dfd1a3a7",
   "metadata": {},
   "outputs": [],
   "source": [
    "import pandas as pd\n",
    "import numpy as np\n",
    "from sklearn.model_selection import train_test_split\n",
    "from sklearn.ensemble import RandomForestClassifier\n",
    "from sklearn.metrics import accuracy_score, classification_report, confusion_matrix"
   ]
  },
  {
   "cell_type": "code",
   "execution_count": 4,
   "id": "872f7e10-5a4a-4044-806c-d8673b966b0e",
   "metadata": {},
   "outputs": [],
   "source": [
    "# Load the Pima Indians Diabetes Dataset\n",
    "# Dataset source: https://www.kaggle.com/uciml/pima-indians-diabetes-database\n",
    "\n",
    "url = \"https://raw.githubusercontent.com/jbrownlee/Datasets/master/pima-indians-diabetes.data.csv\"\n",
    "columns = [\n",
    "    'Pregnancies', 'Glucose', 'BloodPressure', 'SkinThickness', \n",
    "    'Insulin', 'BMI', 'DiabetesPedigreeFunction', 'Age', 'Outcome'\n",
    "]\n",
    "data = pd.read_csv(url, names=columns)"
   ]
  },
  {
   "cell_type": "code",
   "execution_count": 6,
   "id": "50384c94-194b-4364-b585-092a2c8234d3",
   "metadata": {},
   "outputs": [
    {
     "name": "stdout",
     "output_type": "stream",
     "text": [
      "Dataset Information:\n",
      "<class 'pandas.core.frame.DataFrame'>\n",
      "RangeIndex: 768 entries, 0 to 767\n",
      "Data columns (total 9 columns):\n",
      " #   Column                    Non-Null Count  Dtype  \n",
      "---  ------                    --------------  -----  \n",
      " 0   Pregnancies               768 non-null    int64  \n",
      " 1   Glucose                   768 non-null    int64  \n",
      " 2   BloodPressure             768 non-null    int64  \n",
      " 3   SkinThickness             768 non-null    int64  \n",
      " 4   Insulin                   768 non-null    int64  \n",
      " 5   BMI                       768 non-null    float64\n",
      " 6   DiabetesPedigreeFunction  768 non-null    float64\n",
      " 7   Age                       768 non-null    int64  \n",
      " 8   Outcome                   768 non-null    int64  \n",
      "dtypes: float64(2), int64(7)\n",
      "memory usage: 54.1 KB\n",
      "None\n"
     ]
    }
   ],
   "source": [
    "print(\"Dataset Information:\")\n",
    "print(data.info())"
   ]
  },
  {
   "cell_type": "markdown",
   "id": "3da4781b-3bdf-4f9e-9a12-16876fb035dc",
   "metadata": {},
   "source": [
    "## There are a total 9 columns and 768 rows in the given dataset."
   ]
  },
  {
   "cell_type": "code",
   "execution_count": 8,
   "id": "7934405b-372f-4798-853e-e578d82228b8",
   "metadata": {},
   "outputs": [
    {
     "name": "stdout",
     "output_type": "stream",
     "text": [
      "\n",
      "First 5 Rows of Data:\n",
      "   Pregnancies  Glucose  BloodPressure  SkinThickness  Insulin   BMI  \\\n",
      "0            6      148             72             35        0  33.6   \n",
      "1            1       85             66             29        0  26.6   \n",
      "2            8      183             64              0        0  23.3   \n",
      "3            1       89             66             23       94  28.1   \n",
      "4            0      137             40             35      168  43.1   \n",
      "\n",
      "   DiabetesPedigreeFunction  Age  Outcome  \n",
      "0                     0.627   50        1  \n",
      "1                     0.351   31        0  \n",
      "2                     0.672   32        1  \n",
      "3                     0.167   21        0  \n",
      "4                     2.288   33        1  \n"
     ]
    }
   ],
   "source": [
    "print(\"\\nFirst 5 Rows of Data:\")\n",
    "print(data.head())"
   ]
  },
  {
   "cell_type": "code",
   "execution_count": 10,
   "id": "6db8448a-c4f3-4b79-9e97-f9bea69bfa06",
   "metadata": {},
   "outputs": [],
   "source": [
    "# Define features (X) and target (y)\n",
    "feature_columns = [\n",
    "    'Pregnancies', 'Glucose', 'BloodPressure', 'SkinThickness', \n",
    "    'Insulin', 'BMI', 'DiabetesPedigreeFunction', 'Age'\n",
    "]\n",
    "target_column = 'Outcome'\n",
    "\n",
    "X = data[feature_columns]\n",
    "y = data[target_column]"
   ]
  },
  {
   "cell_type": "code",
   "execution_count": 14,
   "id": "c3bdde52-4355-4d28-86d7-e1f46cb7dd03",
   "metadata": {},
   "outputs": [],
   "source": [
    "# Split the data into training and testing sets\n",
    "X_train, X_test, y_train, y_test = train_test_split(X, y, test_size=0.2, random_state=42)\n",
    "\n",
    "# Initialize the model (Random Forest in this case)\n",
    "model = RandomForestClassifier(random_state=42)\n",
    "\n",
    "# Train the model\n",
    "model.fit(X_train, y_train)\n",
    "\n",
    "# Make predictions\n",
    "y_pred = model.predict(X_test)"
   ]
  },
  {
   "cell_type": "code",
   "execution_count": 17,
   "id": "02e88ed7-7ff7-48cd-9d44-e712f4db0683",
   "metadata": {},
   "outputs": [
    {
     "name": "stdout",
     "output_type": "stream",
     "text": [
      "\n",
      "Model Evaluation:\n",
      "Accuracy: 0.7207792207792207\n",
      "\n",
      "Classification Report:\n",
      "               precision    recall  f1-score   support\n",
      "\n",
      "           0       0.79      0.78      0.78        99\n",
      "           1       0.61      0.62      0.61        55\n",
      "\n",
      "    accuracy                           0.72       154\n",
      "   macro avg       0.70      0.70      0.70       154\n",
      "weighted avg       0.72      0.72      0.72       154\n",
      "\n",
      "\n",
      "Confusion Matrix:\n",
      " [[77 22]\n",
      " [21 34]]\n"
     ]
    }
   ],
   "source": [
    "# Evaluate the model\n",
    "accuracy = accuracy_score(y_test, y_pred)\n",
    "print(\"\\nModel Evaluation:\")\n",
    "print(\"Accuracy:\", accuracy)\n",
    "print(\"\\nClassification Report:\\n\", classification_report(y_test, y_pred))\n",
    "print(\"\\nConfusion Matrix:\\n\", confusion_matrix(y_test, y_pred))"
   ]
  },
  {
   "cell_type": "markdown",
   "id": "c6c3d51a-f3d0-48c1-b01b-9676a6cc415d",
   "metadata": {},
   "source": [
    "## Overall Performance \n",
    "Accuracy: The model has an accuracy of approximately 72%, meaning it correctly predicts whether a person has diabetes 72% of the time. While not perfect, it is a reasonable starting point for a baseline model.\n",
    "\n",
    "## Class-wise Performance\n",
    "Class 0 (Non-diabetic):\n",
    "- Precision: 0.79 – When the model predicts a person is non-diabetic, it is correct 79% of the time.\n",
    "- Recall: 0.78 – The model correctly identifies 78% of the actual non-diabetic cases.\n",
    "- F1-score: 0.78 – This indicates a good balance between precision and recall for the non-diabetic class.\n",
    "\n",
    "## Class 1 (Diabetic):\n",
    "- Precision: 0.61 – When the model predicts a person is diabetic, it is correct 61% of the time.\n",
    "- Recall: 0.62 – The model correctly identifies 62% of the actual diabetic cases.\n",
    "- F1-score: 0.61 – This shows a lower performance for diabetic predictions, indicating room for improvement.\n",
    "\n",
    "## Confusion Matrix\n",
    "- True Positives (TP): 34 – The model correctly predicted 34 diabetic cases.\n",
    "- True Negatives (TN): 77 – The model correctly predicted 77 non-diabetic cases.\n",
    "- False Positives (FP): 22 – The model incorrectly predicted 22 cases as diabetic.\n",
    "- False Negatives (FN): 21 – The model missed 21 diabetic cases."
   ]
  },
  {
   "cell_type": "markdown",
   "id": "1d87646f-d80d-42ec-bcb8-32be3bc75b8e",
   "metadata": {},
   "source": [
    "## Key Observations\n",
    "### Class Imbalance:\n",
    "There are more non-diabetic cases (99) than diabetic cases (55), which might have led to better performance on the majority class (non-diabetic) but lower performance on the minority class (diabetic).\n",
    "\n",
    "### Diabetic Predictions (Class 1):\n",
    "Lower precision and recall for the diabetic class indicate the model struggles to generalize well for this minority class. This could lead to critical misses (false negatives) in real-world applications.\n",
    "\n",
    "### Weighted Performance:\n",
    "The weighted average F1-score is 0.72, which aligns with the overall accuracy, reflecting a reasonable balance between precision and recall."
   ]
  },
  {
   "cell_type": "code",
   "execution_count": 19,
   "id": "0d34ee3f-a560-40b8-b746-fb6e223dc999",
   "metadata": {},
   "outputs": [
    {
     "name": "stdout",
     "output_type": "stream",
     "text": [
      "\n",
      "Feature Importances:\n",
      "                     Feature  Importance\n",
      "1                   Glucose    0.258864\n",
      "5                       BMI    0.169984\n",
      "7                       Age    0.140931\n",
      "6  DiabetesPedigreeFunction    0.123768\n",
      "2             BloodPressure    0.088134\n",
      "0               Pregnancies    0.076551\n",
      "4                   Insulin    0.076122\n",
      "3             SkinThickness    0.065646\n"
     ]
    }
   ],
   "source": [
    "# Feature importance\n",
    "feature_importances = pd.DataFrame(\n",
    "    {'Feature': feature_columns, 'Importance': model.feature_importances_}\n",
    ").sort_values(by='Importance', ascending=False)\n",
    "print(\"\\nFeature Importances:\\n\", feature_importances)"
   ]
  },
  {
   "cell_type": "markdown",
   "id": "70b87ae2-5213-4dcc-87c6-2b1c82fb61c3",
   "metadata": {},
   "source": [
    "## Key Observations\n",
    "Top Features:\n",
    "- Glucose (Importance: 0.258864): Glucose is the most important feature, which aligns with medical understanding, as blood glucose levels are a primary indicator of diabetes.\n",
    "- BMI (Importance: 0.169984): BMI is the second most important feature, reflecting the significant role body mass plays in diabetes risk.\n",
    "- Age (Importance: 0.140931): Age is the third most important feature, likely because the risk of diabetes increases with age."
   ]
  },
  {
   "cell_type": "code",
   "execution_count": null,
   "id": "09a1e359-8297-4925-a51f-9f70911631b6",
   "metadata": {},
   "outputs": [],
   "source": []
  },
  {
   "cell_type": "code",
   "execution_count": null,
   "id": "21e8c44d-a120-418a-982d-7bc55534095e",
   "metadata": {},
   "outputs": [],
   "source": []
  },
  {
   "cell_type": "code",
   "execution_count": null,
   "id": "8368a61a-8000-407e-996b-4ec448cefb8f",
   "metadata": {},
   "outputs": [],
   "source": []
  },
  {
   "cell_type": "code",
   "execution_count": null,
   "id": "fa0d825a-572f-4a46-8a65-cbefd5a05dda",
   "metadata": {},
   "outputs": [],
   "source": []
  },
  {
   "cell_type": "code",
   "execution_count": null,
   "id": "ad0d495c-73a4-40ba-b68d-4c04346e9a3d",
   "metadata": {},
   "outputs": [],
   "source": []
  },
  {
   "cell_type": "code",
   "execution_count": null,
   "id": "17ffb2e8-e996-476c-b038-19e000e4e471",
   "metadata": {},
   "outputs": [],
   "source": []
  },
  {
   "cell_type": "code",
   "execution_count": null,
   "id": "5334c74a-64bf-430b-ba60-9c67633a1e08",
   "metadata": {},
   "outputs": [],
   "source": []
  },
  {
   "cell_type": "code",
   "execution_count": null,
   "id": "87d6603d-415f-4123-8a39-9e085daf912a",
   "metadata": {},
   "outputs": [],
   "source": []
  },
  {
   "cell_type": "code",
   "execution_count": null,
   "id": "1364c110-cd95-4e3b-8d38-0ae59c58c676",
   "metadata": {},
   "outputs": [],
   "source": []
  },
  {
   "cell_type": "code",
   "execution_count": null,
   "id": "1154848f-660f-4e5d-a56c-9f5dfe538501",
   "metadata": {},
   "outputs": [],
   "source": []
  },
  {
   "cell_type": "code",
   "execution_count": null,
   "id": "bab0024a-113d-4c91-9388-1e34fa298692",
   "metadata": {},
   "outputs": [],
   "source": []
  },
  {
   "cell_type": "code",
   "execution_count": null,
   "id": "3dee5a93-a120-4fb4-9b4a-a5bbef4a3392",
   "metadata": {},
   "outputs": [],
   "source": []
  },
  {
   "cell_type": "code",
   "execution_count": null,
   "id": "e9de2f1f-c5de-4b5d-9b1a-fb9589c7cae6",
   "metadata": {},
   "outputs": [],
   "source": []
  },
  {
   "cell_type": "code",
   "execution_count": null,
   "id": "f3e96819-70ef-40a2-8f5d-5c2f56a6edb2",
   "metadata": {},
   "outputs": [],
   "source": []
  },
  {
   "cell_type": "code",
   "execution_count": null,
   "id": "b4ec2f5d-f5e7-41bc-b418-a7db46ed5e53",
   "metadata": {},
   "outputs": [],
   "source": []
  },
  {
   "cell_type": "code",
   "execution_count": null,
   "id": "a91ee23e-d818-4c26-af16-992c45f066e1",
   "metadata": {},
   "outputs": [],
   "source": []
  },
  {
   "cell_type": "code",
   "execution_count": null,
   "id": "10899e2a-e8a4-44fd-82ee-df4dc0b997c8",
   "metadata": {},
   "outputs": [],
   "source": []
  },
  {
   "cell_type": "code",
   "execution_count": null,
   "id": "444443ef-7ce6-44aa-959b-8fef08cb3f41",
   "metadata": {},
   "outputs": [],
   "source": []
  },
  {
   "cell_type": "code",
   "execution_count": null,
   "id": "6ba57e35-2f58-4001-85d3-1759922dc0ef",
   "metadata": {},
   "outputs": [],
   "source": []
  },
  {
   "cell_type": "code",
   "execution_count": null,
   "id": "5750d573-2884-4b57-b6fe-6e423ea85b73",
   "metadata": {},
   "outputs": [],
   "source": []
  },
  {
   "cell_type": "code",
   "execution_count": null,
   "id": "afa031a4-3d86-4f94-8343-ff077dd71193",
   "metadata": {},
   "outputs": [],
   "source": []
  },
  {
   "cell_type": "code",
   "execution_count": null,
   "id": "f5279796-e92c-4ddf-9027-c9b8ce211e6a",
   "metadata": {},
   "outputs": [],
   "source": []
  },
  {
   "cell_type": "code",
   "execution_count": null,
   "id": "ad26a5cc-83cf-4acf-be06-1ed9898329a8",
   "metadata": {},
   "outputs": [],
   "source": []
  },
  {
   "cell_type": "code",
   "execution_count": null,
   "id": "461fff8c-4b4a-4e5a-9041-21e99179bcd4",
   "metadata": {},
   "outputs": [],
   "source": []
  }
 ],
 "metadata": {
  "kernelspec": {
   "display_name": "Python 3 (ipykernel)",
   "language": "python",
   "name": "python3"
  },
  "language_info": {
   "codemirror_mode": {
    "name": "ipython",
    "version": 3
   },
   "file_extension": ".py",
   "mimetype": "text/x-python",
   "name": "python",
   "nbconvert_exporter": "python",
   "pygments_lexer": "ipython3",
   "version": "3.11.7"
  }
 },
 "nbformat": 4,
 "nbformat_minor": 5
}
